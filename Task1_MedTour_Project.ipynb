# -*- coding: utf-8 -*-
"""
Created on Sat Aug 17 17:00:42 2024

@author: KIIT
"""

# Import pandas under the alias pd
import pandas as pd
import numpy as np

# Load the dataset into a variable called df_activities
# Parse the dates and set the index to the Date column
runkeeper_file = 'datasets/cardioActivities.csv'  # Replace with the actual path to your dataset file
df_activities = pd.read_csv(runkeeper_file, parse_dates=['Date'], index_col='Date')

# Display 3 random rows from df_activities
print(df_activities.sample(3))

# Print a summary of df_activities
print(df_activities.info())

