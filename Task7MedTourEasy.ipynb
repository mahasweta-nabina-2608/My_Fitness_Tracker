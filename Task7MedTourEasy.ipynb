{
 "cells": [
  {
   "cell_type": "code",
   "execution_count": 1,
   "id": "d7ee74fa-4637-4587-9639-eddec5f8a11a",
   "metadata": {},
   "outputs": [
    {
     "ename": "NameError",
     "evalue": "name 'df_run' is not defined",
     "output_type": "error",
     "traceback": [
      "\u001b[1;31m---------------------------------------------------------------------------\u001b[0m",
      "\u001b[1;31mNameError\u001b[0m                                 Traceback (most recent call last)",
      "Cell \u001b[1;32mIn[1], line 3\u001b[0m\n\u001b[0;32m      1\u001b[0m \u001b[38;5;66;03m# Task 7: Visualize the annual running distance to check if I reached my goals\u001b[39;00m\n\u001b[0;32m      2\u001b[0m \u001b[38;5;66;03m# Resample the running data annually to get the total distance covered each year\u001b[39;00m\n\u001b[1;32m----> 3\u001b[0m df_run_dist_annual \u001b[38;5;241m=\u001b[39m \u001b[43mdf_run\u001b[49m\u001b[38;5;241m.\u001b[39mresample(\u001b[38;5;124m'\u001b[39m\u001b[38;5;124mY\u001b[39m\u001b[38;5;124m'\u001b[39m)[distance_col]\u001b[38;5;241m.\u001b[39msum()\n\u001b[0;32m      5\u001b[0m \u001b[38;5;66;03m# Create the plot\u001b[39;00m\n\u001b[0;32m      6\u001b[0m fig, ax \u001b[38;5;241m=\u001b[39m plt\u001b[38;5;241m.\u001b[39msubplots(figsize\u001b[38;5;241m=\u001b[39m(\u001b[38;5;241m10\u001b[39m, \u001b[38;5;241m6\u001b[39m))\n",
      "\u001b[1;31mNameError\u001b[0m: name 'df_run' is not defined"
     ]
    }
   ],
   "source": [
    "# Task 7: Visualize the annual running distance to check if I reached my goals\n",
    "# Resample the running data annually to get the total distance covered each year\n",
    "df_run_dist_annual = df_run.resample('Y')[distance_col].sum()\n",
    "\n",
    "# Create the plot\n",
    "fig, ax = plt.subplots(figsize=(10, 6))\n",
    "\n",
    "# Plot the annual distance data with markers as stars\n",
    "ax = df_run_dist_annual.plot(marker='*', markersize=14, linewidth=0, color='blue', ax=ax)\n",
    "\n",
    "# Customize the plot with labels and title\n",
    "ax.set(ylim=[0, 1210], xlim=['2012', '2019'], ylabel='Distance (km)', xlabel='Years', title='Annual totals for distance')\n",
    "\n",
    "# Add shaded regions to visualize goal success\n",
    "# Green region indicates success (above 1000 km)\n",
    "ax.axhspan(1000, 1210, color='green', alpha=0.4)\n",
    "# Yellow region indicates near success (800 to 1000 km)\n",
    "ax.axhspan(800, 1000, color='yellow', alpha=0.3)\n",
    "\n",
    "# Display the plot\n",
    "plt.tight_layout()\n",
    "plt.show()\n"
   ]
  },
  {
   "cell_type": "code",
   "execution_count": 2,
   "id": "982dc5cc-7586-4dfa-87d0-b7bd18dee8e3",
   "metadata": {},
   "outputs": [
    {
     "name": "stdout",
     "output_type": "stream",
     "text": [
      "Activity Type Counts:\n",
      "Type\n",
      "Running    459\n",
      "Cycling     29\n",
      "Walking     18\n",
      "Other        2\n",
      "Name: count, dtype: int64\n",
      "\n",
      "Missing Values Count:\n",
      "Type                          0\n",
      "Distance (km)                 0\n",
      "Duration                      0\n",
      "Average Pace                  0\n",
      "Average Speed (km/h)          0\n",
      "Climb (m)                     0\n",
      "Average Heart Rate (bpm)    214\n",
      "dtype: int64\n"
     ]
    },
    {
     "name": "stderr",
     "output_type": "stream",
     "text": [
      "C:\\Users\\KIIT\\AppData\\Local\\Temp\\ipykernel_20912\\4267069193.py:41: FutureWarning: 'Y' is deprecated and will be removed in a future version, please use 'YE' instead.\n",
      "  df_run_dist_annual = df_run.resample('Y')[distance_col].sum()\n"
     ]
    },
    {
     "ename": "NameError",
     "evalue": "name 'plt' is not defined",
     "output_type": "error",
     "traceback": [
      "\u001b[1;31m---------------------------------------------------------------------------\u001b[0m",
      "\u001b[1;31mNameError\u001b[0m                                 Traceback (most recent call last)",
      "Cell \u001b[1;32mIn[2], line 44\u001b[0m\n\u001b[0;32m     41\u001b[0m df_run_dist_annual \u001b[38;5;241m=\u001b[39m df_run\u001b[38;5;241m.\u001b[39mresample(\u001b[38;5;124m'\u001b[39m\u001b[38;5;124mY\u001b[39m\u001b[38;5;124m'\u001b[39m)[distance_col]\u001b[38;5;241m.\u001b[39msum()\n\u001b[0;32m     43\u001b[0m \u001b[38;5;66;03m# Create the plot\u001b[39;00m\n\u001b[1;32m---> 44\u001b[0m fig, ax \u001b[38;5;241m=\u001b[39m \u001b[43mplt\u001b[49m\u001b[38;5;241m.\u001b[39msubplots(figsize\u001b[38;5;241m=\u001b[39m(\u001b[38;5;241m10\u001b[39m, \u001b[38;5;241m6\u001b[39m))\n\u001b[0;32m     46\u001b[0m \u001b[38;5;66;03m# Plot the annual distance data with markers as stars\u001b[39;00m\n\u001b[0;32m     47\u001b[0m ax \u001b[38;5;241m=\u001b[39m df_run_dist_annual\u001b[38;5;241m.\u001b[39mplot(marker\u001b[38;5;241m=\u001b[39m\u001b[38;5;124m'\u001b[39m\u001b[38;5;124m*\u001b[39m\u001b[38;5;124m'\u001b[39m, markersize\u001b[38;5;241m=\u001b[39m\u001b[38;5;241m14\u001b[39m, linewidth\u001b[38;5;241m=\u001b[39m\u001b[38;5;241m0\u001b[39m, color\u001b[38;5;241m=\u001b[39m\u001b[38;5;124m'\u001b[39m\u001b[38;5;124mblue\u001b[39m\u001b[38;5;124m'\u001b[39m, ax\u001b[38;5;241m=\u001b[39max)\n",
      "\u001b[1;31mNameError\u001b[0m: name 'plt' is not defined"
     ]
    }
   ],
   "source": [
    "# Import pandas under the alias pd\n",
    "import pandas as pd\n",
    "\n",
    "# Load the dataset into a variable called df_activities\n",
    "file_path = 'C:/Users/KIIT/Downloads/cardioActivities.csv'\n",
    "df_activities = pd.read_csv(file_path, parse_dates=['Date'], index_col='Date', dayfirst=True)\n",
    "\n",
    "# Task 1: Delete unnecessary columns\n",
    "cols_to_drop = ['Friends Tagged', 'Route Name', 'GPX File', 'Activity Id', 'Calories Burned', 'Notes']\n",
    "df_activities = df_activities.drop(columns=cols_to_drop)\n",
    "\n",
    "# Task 2: Calculate the activity type counts\n",
    "activity_type_counts = df_activities['Type'].value_counts()\n",
    "print(\"Activity Type Counts:\")\n",
    "print(activity_type_counts)\n",
    "\n",
    "# Task 3: Rename 'Other' values to 'Unicycling' in the Type column\n",
    "df_activities['Type'] = df_activities['Type'].replace('Other', 'Unicycling')\n",
    "\n",
    "# Task 4: Count the missing values in each column\n",
    "missing_values_count = df_activities.isnull().sum()\n",
    "print(\"\\nMissing Values Count:\")\n",
    "print(missing_values_count)\n",
    "\n",
    "# Check if 'Distance' exists\n",
    "if 'Distance (km)' in df_activities.columns:\n",
    "    distance_col = 'Distance (km)'  # Use this column if it exists\n",
    "elif 'Distance' in df_activities.columns:\n",
    "    distance_col = 'Distance'\n",
    "else:\n",
    "    raise KeyError(\"No suitable 'Distance' column found in the dataset.\")\n",
    "\n",
    "# Task 5: Filter for Running activities and clean data\n",
    "df_run = df_activities[df_activities['Type'] == 'Running'].copy()\n",
    "\n",
    "# Ensure that the index is properly set as DatetimeIndex\n",
    "df_run.index = pd.to_datetime(df_run.index, dayfirst=True)\n",
    "\n",
    "# Task 7: Visualize the annual running distance to check if I reached my goals\n",
    "# Resample the running data annually to get the total distance covered each year\n",
    "df_run_dist_annual = df_run.resample('Y')[distance_col].sum()\n",
    "\n",
    "# Create the plot\n",
    "fig, ax = plt.subplots(figsize=(10, 6))\n",
    "\n",
    "# Plot the annual distance data with markers as stars\n",
    "ax = df_run_dist_annual.plot(marker='*', markersize=14, linewidth=0, color='blue', ax=ax)\n",
    "\n",
    "# Customize the plot with labels and title\n",
    "ax.set(ylim=[0, 1210], xlim=['2012', '2019'], ylabel='Distance (km)', xlabel='Years', title='Annual totals for distance')\n",
    "\n",
    "# Add shaded regions to visualize goal success\n",
    "# Green region indicates success (above 1000 km)\n",
    "ax.axhspan(1000, 1210, color='green', alpha=0.4)\n",
    "# Yellow region indicates near success (800 to 1000 km)\n",
    "ax.axhspan(800, 1000, color='yellow', alpha=0.3)\n",
    "\n",
    "# Display the plot\n",
    "plt.tight_layout()\n",
    "plt.show()\n"
   ]
  },
  {
   "cell_type": "code",
   "execution_count": 3,
   "id": "5b3bbf08-392c-4b2e-9811-bb4801711207",
   "metadata": {},
   "outputs": [
    {
     "data": {
      "image/png": "[encoded data removed]",
      "text/plain": [
       "<Figure size 1000x600 with 1 Axes>"
      ]
     },
     "metadata": {},
     "output_type": "display_data"
    }
   ],
   "source": [
    "# Import necessary libraries\n",
    "import pandas as pd\n",
    "import matplotlib.pyplot as plt\n",
    "\n",
    "# Load the dataset into a variable called df_activities\n",
    "file_path = 'C:/Users/KIIT/Downloads/cardioActivities.csv'\n",
    "df_activities = pd.read_csv(file_path, parse_dates=['Date'], index_col='Date', dayfirst=True)\n",
    "\n",
    "# Task 1: Delete unnecessary columns\n",
    "cols_to_drop = ['Friends Tagged', 'Route Name', 'GPX File', 'Activity Id', 'Calories Burned', 'Notes']\n",
    "df_activities = df_activities.drop(columns=cols_to_drop)\n",
    "\n",
    "# Task 2: Filter for Running activities and clean data\n",
    "df_run = df_activities[df_activities['Type'] == 'Running'].copy()\n",
    "\n",
    "# Ensure that the index is properly set as DatetimeIndex\n",
    "df_run.index = pd.to_datetime(df_run.index, dayfirst=True)\n",
    "\n",
    "# Check if 'Distance' column exists\n",
    "if 'Distance (km)' in df_activities.columns:\n",
    "    distance_col = 'Distance (km)'  # Use this column if it exists\n",
    "elif 'Distance' in df_activities.columns:\n",
    "    distance_col = 'Distance'\n",
    "else:\n",
    "    raise KeyError(\"No suitable 'Distance' column found in the dataset.\")\n",
    "\n",
    "# Task 7: Visualize the annual running distance to check if I reached my goals\n",
    "# Resample the running data annually to get the total distance covered each year (using 'YE' instead of 'Y')\n",
    "df_run_dist_annual = df_run.resample('YE')[distance_col].sum()\n",
    "\n",
    "# Create the plot\n",
    "fig, ax = plt.subplots(figsize=(10, 6))\n",
    "\n",
    "# Plot the annual distance data with markers as stars\n",
    "ax = df_run_dist_annual.plot(marker='*', markersize=14, linewidth=0, color='blue', ax=ax)\n",
    "\n",
    "# Customize the plot with labels and title\n",
    "ax.set(ylim=[0, 1210], xlim=['2012', '2019'], ylabel='Distance (km)', xlabel='Years', title='Annual totals for distance')\n",
    "\n",
    "# Add shaded regions to visualize goal success\n",
    "ax.axhspan(1000, 1210, color='green', alpha=0.4)  # Green region for success (above 1000 km)\n",
    "ax.axhspan(800, 1000, color='yellow', alpha=0.3)  # Yellow region for near success (800-1000 km)\n",
    "\n",
    "# Show the plot\n",
    "plt.tight_layout()\n",
    "plt.show()\n",
    "\n"
   ]
  },
  {
   "cell_type": "code",
   "execution_count": null,
   "id": "805dd5d7-ddc5-4ef3-9e1f-f564a268e046",
   "metadata": {},
   "outputs": [],
   "source": []
  }
 ],
 "metadata": {
  "kernelspec": {
   "display_name": "Python 3 (ipykernel)",
   "language": "python",
   "name": "python3"
  },
  "language_info": {
   "codemirror_mode": {
    "name": "ipython",
    "version": 3
   },
   "file_extension": ".py",
   "mimetype": "text/x-python",
   "name": "python",
   "nbconvert_exporter": "python",
   "pygments_lexer": "ipython3",
   "version": "3.12.4"
  }
 },
 "nbformat": 4,
 "nbformat_minor": 5
}
