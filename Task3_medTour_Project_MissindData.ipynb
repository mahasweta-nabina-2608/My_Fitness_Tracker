{
 "cells": [
  {
   "cell_type": "code",
   "execution_count": 2,
   "id": "7668b45e-dc6d-4a84-9f5e-cbd1b2013090",
   "metadata": {},
   "outputs": [
    {
     "name": "stdout",
     "output_type": "stream",
     "text": [
      "Requirement already satisfied: pandas in c:\\users\\kiit\\appdata\\local\\programs\\python\\python312\\lib\\site-packages (2.2.2)\n",
      "Requirement already satisfied: numpy>=1.26.0 in c:\\users\\kiit\\appdata\\local\\programs\\python\\python312\\lib\\site-packages (from pandas) (2.0.1)\n",
      "Requirement already satisfied: python-dateutil>=2.8.2 in c:\\users\\kiit\\appdata\\local\\programs\\python\\python312\\lib\\site-packages (from pandas) (2.9.0.post0)\n",
      "Requirement already satisfied: pytz>=2020.1 in c:\\users\\kiit\\appdata\\local\\programs\\python\\python312\\lib\\site-packages (from pandas) (2024.1)\n",
      "Requirement already satisfied: tzdata>=2022.7 in c:\\users\\kiit\\appdata\\local\\programs\\python\\python312\\lib\\site-packages (from pandas) (2024.1)\n",
      "Requirement already satisfied: six>=1.5 in c:\\users\\kiit\\appdata\\local\\programs\\python\\python312\\lib\\site-packages (from python-dateutil>=2.8.2->pandas) (1.16.0)\n",
      "Note: you may need to restart the kernel to use updated packages.\n"
     ]
    }
   ],
   "source": [
    "pip install pandas"
   ]
  },
  {
   "cell_type": "code",
   "execution_count": 3,
   "id": "37d8cf04-2fef-484d-a442-eb0c335852b5",
   "metadata": {},
   "outputs": [
    {
     "name": "stdout",
     "output_type": "stream",
     "text": [
      "Requirement already satisfied: numpy in c:\\users\\kiit\\appdata\\local\\programs\\python\\python312\\lib\\site-packages (2.0.1)\n",
      "Note: you may need to restart the kernel to use updated packages.\n"
     ]
    }
   ],
   "source": [
    "pip install numpy"
   ]
  },
  {
   "cell_type": "code",
   "execution_count": 4,
   "id": "c8422061-6593-46a9-8cae-a13520379523",
   "metadata": {},
   "outputs": [
    {
     "name": "stdout",
     "output_type": "stream",
     "text": [
      "Activity Type Counts:\n",
      "Type\n",
      "Running    459\n",
      "Cycling     29\n",
      "Walking     18\n",
      "Other        2\n",
      "Name: count, dtype: int64\n",
      "\n",
      "Missing Values Count:\n",
      "Type                          0\n",
      "Distance (km)                 0\n",
      "Duration                      0\n",
      "Average Pace                  0\n",
      "Average Speed (km/h)          0\n",
      "Climb (m)                     0\n",
      "Average Heart Rate (bpm)    214\n",
      "dtype: int64\n",
      "\n",
      "Missing Values Count in Cycling Data:\n",
      "Type                        0\n",
      "Distance (km)               0\n",
      "Duration                    0\n",
      "Average Pace                0\n",
      "Average Speed (km/h)        0\n",
      "Climb (m)                   0\n",
      "Average Heart Rate (bpm)    0\n",
      "dtype: int64\n"
     ]
    },
    {
     "name": "stderr",
     "output_type": "stream",
     "text": [
      "C:\\Users\\KIIT\\AppData\\Local\\Temp\\ipykernel_20360\\4191732164.py:33: FutureWarning: A value is trying to be set on a copy of a DataFrame or Series through chained assignment using an inplace method.\n",
      "The behavior will change in pandas 3.0. This inplace method will never work because the intermediate object on which we are setting values always behaves as a copy.\n",
      "\n",
      "For example, when doing 'df[col].method(value, inplace=True)', try using 'df.method({col: value}, inplace=True)' or df[col] = df[col].method(value) instead, to perform the operation inplace on the original object.\n",
      "\n",
      "\n",
      "  df_cycle['Average Heart Rate (bpm)'].fillna(int(avg_hr_cycle), inplace=True)\n"
     ]
    }
   ],
   "source": [
    "# Import pandas under the alias pd\n",
    "import pandas as pd\n",
    "\n",
    "# Load the dataset into a variable called df_activities\n",
    "file_path = 'C:/Users/KIIT/Downloads/cardioActivities.csv'\n",
    "df_activities = pd.read_csv(file_path, parse_dates=['Date'], index_col='Date')\n",
    "\n",
    "# Task 1: Delete unnecessary columns (Example: dropping 'Friend’s Tagged' and 'Notes')\n",
    "cols_to_drop = ['Friends Tagged','Route Name','GPX File','Activity Id','Calories Burned', 'Notes']\n",
    "df_activities = df_activities.drop(columns=cols_to_drop)\n",
    "\n",
    "# Task 2: Calculate the activity type counts\n",
    "activity_type_counts = df_activities['Type'].value_counts()\n",
    "print(\"Activity Type Counts:\")\n",
    "print(activity_type_counts)\n",
    "\n",
    "# Task 3: Rename 'Other' values to 'Unicycling' in the Type column\n",
    "df_activities['Type'] = df_activities['Type'].str.replace('Other', 'Unicycling')\n",
    "\n",
    "# Task 4: Count the missing values in each column\n",
    "missing_values_count = df_activities.isnull().sum()\n",
    "print(\"\\nMissing Values Count:\")\n",
    "print(missing_values_count)\n",
    "\n",
    "# Implementing mean imputation for missing values\n",
    "# Calculate the sample mean for Average Heart Rate (bpm) for the 'Cycling' activity type\n",
    "avg_hr_cycle = df_activities[df_activities['Type'] == 'Cycling']['Average Heart Rate (bpm)'].mean()\n",
    "\n",
    "# Split the DataFrame to create a copy specific to 'Cycling'\n",
    "df_cycle = df_activities[df_activities['Type'] == 'Cycling'].copy()\n",
    "\n",
    "# Fill in the missing values for Average Heart Rate (bpm) in df_cycle\n",
    "df_cycle['Average Heart Rate (bpm)'].fillna(int(avg_hr_cycle), inplace=True)\n",
    "\n",
    "# Count the missing values for all columns in df_cycle\n",
    "missing_values_count_cycle = df_cycle.isnull().sum()\n",
    "print(\"\\nMissing Values Count in Cycling Data:\")\n",
    "print(missing_values_count_cycle)\n"
   ]
  },
  {
   "cell_type": "code",
   "execution_count": null,
   "id": "49c39899-b2eb-47c1-b977-05471e4e86fa",
   "metadata": {},
   "outputs": [],
   "source": []
  }
 ],
 "metadata": {
  "kernelspec": {
   "display_name": "Python 3 (ipykernel)",
   "language": "python",
   "name": "python3"
  },
  "language_info": {
   "codemirror_mode": {
    "name": "ipython",
    "version": 3
   },
   "file_extension": ".py",
   "mimetype": "text/x-python",
   "name": "python",
   "nbconvert_exporter": "python",
   "pygments_lexer": "ipython3",
   "version": "3.12.4"
  }
 },
 "nbformat": 4,
 "nbformat_minor": 5
}
