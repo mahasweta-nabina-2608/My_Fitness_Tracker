{
 "cells": [
  {
   "cell_type": "code",
   "execution_count": 1,
   "id": "e1b20aaa-e1d0-4415-a6d5-06413cfcb2b2",
   "metadata": {},
   "outputs": [
    {
     "name": "stdout",
     "output_type": "stream",
     "text": [
      "Requirement already satisfied: pandas in c:\\users\\kiit\\appdata\\local\\programs\\python\\python312\\lib\\site-packages (2.2.2)\n",
      "Requirement already satisfied: numpy>=1.26.0 in c:\\users\\kiit\\appdata\\local\\programs\\python\\python312\\lib\\site-packages (from pandas) (2.0.1)\n",
      "Requirement already satisfied: python-dateutil>=2.8.2 in c:\\users\\kiit\\appdata\\local\\programs\\python\\python312\\lib\\site-packages (from pandas) (2.9.0.post0)\n",
      "Requirement already satisfied: pytz>=2020.1 in c:\\users\\kiit\\appdata\\local\\programs\\python\\python312\\lib\\site-packages (from pandas) (2024.1)\n",
      "Requirement already satisfied: tzdata>=2022.7 in c:\\users\\kiit\\appdata\\local\\programs\\python\\python312\\lib\\site-packages (from pandas) (2024.1)\n",
      "Requirement already satisfied: six>=1.5 in c:\\users\\kiit\\appdata\\local\\programs\\python\\python312\\lib\\site-packages (from python-dateutil>=2.8.2->pandas) (1.16.0)\n",
      "Note: you may need to restart the kernel to use updated packages.\n"
     ]
    }
   ],
   "source": [
    "pip install pandas"
   ]
  },
  {
   "cell_type": "code",
   "execution_count": 2,
   "id": "2ab9cce6-d55f-4276-af3f-8fa88115c49b",
   "metadata": {},
   "outputs": [
    {
     "name": "stdout",
     "output_type": "stream",
     "text": [
      "Requirement already satisfied: numpy in c:\\users\\kiit\\appdata\\local\\programs\\python\\python312\\lib\\site-packages (2.0.1)\n",
      "Note: you may need to restart the kernel to use updated packages.\n"
     ]
    }
   ],
   "source": [
    "pip install numpy"
   ]
  },
  {
   "cell_type": "code",
   "execution_count": 9,
   "id": "b7a83aee-73a0-4a96-aa44-12246c191154",
   "metadata": {},
   "outputs": [
    {
     "name": "stdout",
     "output_type": "stream",
     "text": [
      "Activity Type Counts:\n",
      "Type\n",
      "Running    459\n",
      "Cycling     29\n",
      "Walking     18\n",
      "Other        2\n",
      "Name: count, dtype: int64\n",
      "\n",
      "Missing Values Count:\n",
      "Type                          0\n",
      "Distance (km)                 0\n",
      "Duration                      0\n",
      "Average Pace                  0\n",
      "Average Speed (km/h)          0\n",
      "Climb (m)                     0\n",
      "Average Heart Rate (bpm)    214\n",
      "dtype: int64\n"
     ]
    }
   ],
   "source": [
    "#Perfoming Data Preprocessing\n",
    "# Import pandas under the alias pd\n",
    "import pandas as pd\n",
    "\n",
    "# Load the dataset into a variable called df_activities\n",
    "file_path = 'C:/Users/KIIT/Downloads/cardioActivities.csv'\n",
    "df_activities = pd.read_csv(file_path, parse_dates=['Date'], index_col='Date')\n",
    "\n",
    "# Task 1: Delete unnecessary columns\n",
    "cols_to_drop = cols_to_drop = ['Friends Tagged','Route Name','GPX File','Activity Id','Calories Burned', 'Notes'] \n",
    "df_activities = df_activities.drop(columns=cols_to_drop)\n",
    "\n",
    "# Task 2: Calculate the activity type counts\n",
    "activity_type_counts = df_activities['Type'].value_counts()\n",
    "print(\"Activity Type Counts:\")\n",
    "print(activity_type_counts)\n",
    "\n",
    "# Task 3: Rename 'Other' values to 'Unicycling' in the Type column\n",
    "df_activities['Type'] = df_activities['Type'].str.replace('Other', 'Unicycling')\n",
    "\n",
    "# Task 4: Count the missing values in each column\n",
    "missing_values_count = df_activities.isnull().sum()\n",
    "print(\"\\nMissing Values Count:\")\n",
    "print(missing_values_count)\n"
   ]
  },
  {
   "cell_type": "code",
   "execution_count": null,
   "id": "0e7b272b-cc79-4822-87da-3c342344e448",
   "metadata": {},
   "outputs": [],
   "source": []
  }
 ],
 "metadata": {
  "kernelspec": {
   "display_name": "Python 3 (ipykernel)",
   "language": "python",
   "name": "python3"
  },
  "language_info": {
   "codemirror_mode": {
    "name": "ipython",
    "version": 3
   },
   "file_extension": ".py",
   "mimetype": "text/x-python",
   "name": "python",
   "nbconvert_exporter": "python",
   "pygments_lexer": "ipython3",
   "version": "3.12.4"
  }
 },
 "nbformat": 4,
 "nbformat_minor": 5
}
